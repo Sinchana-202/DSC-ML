{
  "nbformat": 4,
  "nbformat_minor": 0,
  "metadata": {
    "colab": {
      "name": "Beer Consumption prediction.ipynb",
      "provenance": [],
      "authorship_tag": "ABX9TyM3Glk898d6zG+VBxi6uwUl",
      "include_colab_link": true
    },
    "kernelspec": {
      "name": "python3",
      "display_name": "Python 3"
    },
    "language_info": {
      "name": "python"
    }
  },
  "cells": [
    {
      "cell_type": "markdown",
      "metadata": {
        "id": "view-in-github",
        "colab_type": "text"
      },
      "source": [
        "<a href=\"https://colab.research.google.com/github/Sinchana-202/DSC-ML/blob/master/Beer_Consumption_prediction.ipynb\" target=\"_parent\"><img src=\"https://colab.research.google.com/assets/colab-badge.svg\" alt=\"Open In Colab\"/></a>"
      ]
    },
    {
      "cell_type": "markdown",
      "metadata": {
        "id": "fMYJtG6Sny4B"
      },
      "source": [
        "# BEER CONSUMPTION PREDICTION"
      ]
    },
    {
      "cell_type": "markdown",
      "metadata": {
        "id": "hZXiAee2oTJX"
      },
      "source": [
        "Given data about beer consumption in Silo Paulo on different days of the year .\n",
        "We have to predict the liters of beer that will be consumed on a given day."
      ]
    },
    {
      "cell_type": "markdown",
      "metadata": {
        "id": "VN2T3nKNp9Nv"
      },
      "source": [
        "![Beer Consumption.jpg](data:image/jpeg;base64,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)"
      ]
    },
    {
      "cell_type": "code",
      "metadata": {
        "id": "WRDsB_c2qaKg"
      },
      "source": [
        "import numpy as np\n",
        "import pandas as pd\n",
        "import datetime         ### for converting to date and time\n",
        "import seaborn as sns\n",
        "import matplotlib.pyplot as plt\n",
        "from sklearn.metrics import confusion_matrix\n",
        "from sklearn import metrics"
      ],
      "execution_count": 54,
      "outputs": []
    },
    {
      "cell_type": "code",
      "metadata": {
        "colab": {
          "resources": {
            "http://localhost:8080/nbextensions/google.colab/files.js": {
              "data": "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",
              "ok": true,
              "headers": [
                [
                  "content-type",
                  "application/javascript"
                ]
              ],
              "status": 200,
              "status_text": ""
            }
          },
          "base_uri": "https://localhost:8080/",
          "height": 73
        },
        "id": "v3EJogoMrJ65",
        "outputId": "3cd2a9df-1867-4830-b877-ef9dd6362c4b"
      },
      "source": [
        "from google.colab import files\n",
        "uploaded = files.upload()"
      ],
      "execution_count": 55,
      "outputs": [
        {
          "output_type": "display_data",
          "data": {
            "text/html": [
              "\n",
              "     <input type=\"file\" id=\"files-65737471-38b1-4122-83b4-c0e7e76141c7\" name=\"files[]\" multiple disabled\n",
              "        style=\"border:none\" />\n",
              "     <output id=\"result-65737471-38b1-4122-83b4-c0e7e76141c7\">\n",
              "      Upload widget is only available when the cell has been executed in the\n",
              "      current browser session. Please rerun this cell to enable.\n",
              "      </output>\n",
              "      <script src=\"/nbextensions/google.colab/files.js\"></script> "
            ],
            "text/plain": [
              "<IPython.core.display.HTML object>"
            ]
          },
          "metadata": {
            "tags": []
          }
        },
        {
          "output_type": "stream",
          "text": [
            "Saving Consumo_cerveja.csv to Consumo_cerveja (2).csv\n"
          ],
          "name": "stdout"
        }
      ]
    },
    {
      "cell_type": "code",
      "metadata": {
        "id": "C4HTYObysH-U"
      },
      "source": [
        "beer_data = pd.read_csv('Consumo_cerveja.csv')"
      ],
      "execution_count": 56,
      "outputs": []
    },
    {
      "cell_type": "code",
      "metadata": {
        "colab": {
          "base_uri": "https://localhost:8080/",
          "height": 202
        },
        "id": "lBjCRu4pskCe",
        "outputId": "73249dce-65a0-4c45-815e-ce07f06b95ea"
      },
      "source": [
        "beer_data.head()"
      ],
      "execution_count": 57,
      "outputs": [
        {
          "output_type": "execute_result",
          "data": {
            "text/html": [
              "<div>\n",
              "<style scoped>\n",
              "    .dataframe tbody tr th:only-of-type {\n",
              "        vertical-align: middle;\n",
              "    }\n",
              "\n",
              "    .dataframe tbody tr th {\n",
              "        vertical-align: top;\n",
              "    }\n",
              "\n",
              "    .dataframe thead th {\n",
              "        text-align: right;\n",
              "    }\n",
              "</style>\n",
              "<table border=\"1\" class=\"dataframe\">\n",
              "  <thead>\n",
              "    <tr style=\"text-align: right;\">\n",
              "      <th></th>\n",
              "      <th>Data</th>\n",
              "      <th>Temperatura Media (C)</th>\n",
              "      <th>Temperatura Minima (C)</th>\n",
              "      <th>Temperatura Maxima (C)</th>\n",
              "      <th>Precipitacao (mm)</th>\n",
              "      <th>Final de Semana</th>\n",
              "      <th>Consumo de cerveja (litros)</th>\n",
              "    </tr>\n",
              "  </thead>\n",
              "  <tbody>\n",
              "    <tr>\n",
              "      <th>0</th>\n",
              "      <td>2015-01-01</td>\n",
              "      <td>27,3</td>\n",
              "      <td>23,9</td>\n",
              "      <td>32,5</td>\n",
              "      <td>0</td>\n",
              "      <td>0.0</td>\n",
              "      <td>25.461</td>\n",
              "    </tr>\n",
              "    <tr>\n",
              "      <th>1</th>\n",
              "      <td>2015-01-02</td>\n",
              "      <td>27,02</td>\n",
              "      <td>24,5</td>\n",
              "      <td>33,5</td>\n",
              "      <td>0</td>\n",
              "      <td>0.0</td>\n",
              "      <td>28.972</td>\n",
              "    </tr>\n",
              "    <tr>\n",
              "      <th>2</th>\n",
              "      <td>2015-01-03</td>\n",
              "      <td>24,82</td>\n",
              "      <td>22,4</td>\n",
              "      <td>29,9</td>\n",
              "      <td>0</td>\n",
              "      <td>1.0</td>\n",
              "      <td>30.814</td>\n",
              "    </tr>\n",
              "    <tr>\n",
              "      <th>3</th>\n",
              "      <td>2015-01-04</td>\n",
              "      <td>23,98</td>\n",
              "      <td>21,5</td>\n",
              "      <td>28,6</td>\n",
              "      <td>1,2</td>\n",
              "      <td>1.0</td>\n",
              "      <td>29.799</td>\n",
              "    </tr>\n",
              "    <tr>\n",
              "      <th>4</th>\n",
              "      <td>2015-01-05</td>\n",
              "      <td>23,82</td>\n",
              "      <td>21</td>\n",
              "      <td>28,3</td>\n",
              "      <td>0</td>\n",
              "      <td>0.0</td>\n",
              "      <td>28.900</td>\n",
              "    </tr>\n",
              "  </tbody>\n",
              "</table>\n",
              "</div>"
            ],
            "text/plain": [
              "         Data  ... Consumo de cerveja (litros)\n",
              "0  2015-01-01  ...                      25.461\n",
              "1  2015-01-02  ...                      28.972\n",
              "2  2015-01-03  ...                      30.814\n",
              "3  2015-01-04  ...                      29.799\n",
              "4  2015-01-05  ...                      28.900\n",
              "\n",
              "[5 rows x 7 columns]"
            ]
          },
          "metadata": {
            "tags": []
          },
          "execution_count": 57
        }
      ]
    },
    {
      "cell_type": "markdown",
      "metadata": {
        "id": "i4o6UbbWtXo2"
      },
      "source": [
        "**column**  **description**\n",
        "\n",
        "Data\t                      - Date\n",
        "\n",
        "Temperatura Media (C)       - medium Temperature\n",
        "\n",
        "Temperatura Minima (C)      - minimum Temperature\n",
        "\n",
        "Temperatura Maxima (C)\t    - maximum Temperature\n",
        "\n",
        "Precipitacao (mm)\t          - Precipitation\n",
        "\n",
        "Final de Semana\t            - Weekend\n",
        "\n",
        "Consumo de cerveja (litros) - Beer Consumption\n"
      ]
    },
    {
      "cell_type": "code",
      "metadata": {
        "colab": {
          "base_uri": "https://localhost:8080/"
        },
        "id": "GQ0SM7b8snQH",
        "outputId": "fe4c6090-942e-4716-f1c5-408e7a05054f"
      },
      "source": [
        "beer_data.columns"
      ],
      "execution_count": 58,
      "outputs": [
        {
          "output_type": "execute_result",
          "data": {
            "text/plain": [
              "Index(['Data', 'Temperatura Media (C)', 'Temperatura Minima (C)',\n",
              "       'Temperatura Maxima (C)', 'Precipitacao (mm)', 'Final de Semana',\n",
              "       'Consumo de cerveja (litros)'],\n",
              "      dtype='object')"
            ]
          },
          "metadata": {
            "tags": []
          },
          "execution_count": 58
        }
      ]
    },
    {
      "cell_type": "code",
      "metadata": {
        "colab": {
          "base_uri": "https://localhost:8080/"
        },
        "id": "hLY1Al70stqW",
        "outputId": "61d956a2-c253-46a6-9ada-38faa684930e"
      },
      "source": [
        "beer_data.shape"
      ],
      "execution_count": 59,
      "outputs": [
        {
          "output_type": "execute_result",
          "data": {
            "text/plain": [
              "(941, 7)"
            ]
          },
          "metadata": {
            "tags": []
          },
          "execution_count": 59
        }
      ]
    },
    {
      "cell_type": "code",
      "metadata": {
        "colab": {
          "base_uri": "https://localhost:8080/",
          "height": 294
        },
        "id": "sdplCDHfuiMR",
        "outputId": "899df95d-330c-438a-e3b5-37e807f7b861"
      },
      "source": [
        "beer_data.describe()"
      ],
      "execution_count": 60,
      "outputs": [
        {
          "output_type": "execute_result",
          "data": {
            "text/html": [
              "<div>\n",
              "<style scoped>\n",
              "    .dataframe tbody tr th:only-of-type {\n",
              "        vertical-align: middle;\n",
              "    }\n",
              "\n",
              "    .dataframe tbody tr th {\n",
              "        vertical-align: top;\n",
              "    }\n",
              "\n",
              "    .dataframe thead th {\n",
              "        text-align: right;\n",
              "    }\n",
              "</style>\n",
              "<table border=\"1\" class=\"dataframe\">\n",
              "  <thead>\n",
              "    <tr style=\"text-align: right;\">\n",
              "      <th></th>\n",
              "      <th>Final de Semana</th>\n",
              "      <th>Consumo de cerveja (litros)</th>\n",
              "    </tr>\n",
              "  </thead>\n",
              "  <tbody>\n",
              "    <tr>\n",
              "      <th>count</th>\n",
              "      <td>365.000000</td>\n",
              "      <td>365.000000</td>\n",
              "    </tr>\n",
              "    <tr>\n",
              "      <th>mean</th>\n",
              "      <td>0.284932</td>\n",
              "      <td>25.401367</td>\n",
              "    </tr>\n",
              "    <tr>\n",
              "      <th>std</th>\n",
              "      <td>0.452001</td>\n",
              "      <td>4.399143</td>\n",
              "    </tr>\n",
              "    <tr>\n",
              "      <th>min</th>\n",
              "      <td>0.000000</td>\n",
              "      <td>14.343000</td>\n",
              "    </tr>\n",
              "    <tr>\n",
              "      <th>25%</th>\n",
              "      <td>0.000000</td>\n",
              "      <td>22.008000</td>\n",
              "    </tr>\n",
              "    <tr>\n",
              "      <th>50%</th>\n",
              "      <td>0.000000</td>\n",
              "      <td>24.867000</td>\n",
              "    </tr>\n",
              "    <tr>\n",
              "      <th>75%</th>\n",
              "      <td>1.000000</td>\n",
              "      <td>28.631000</td>\n",
              "    </tr>\n",
              "    <tr>\n",
              "      <th>max</th>\n",
              "      <td>1.000000</td>\n",
              "      <td>37.937000</td>\n",
              "    </tr>\n",
              "  </tbody>\n",
              "</table>\n",
              "</div>"
            ],
            "text/plain": [
              "       Final de Semana  Consumo de cerveja (litros)\n",
              "count       365.000000                   365.000000\n",
              "mean          0.284932                    25.401367\n",
              "std           0.452001                     4.399143\n",
              "min           0.000000                    14.343000\n",
              "25%           0.000000                    22.008000\n",
              "50%           0.000000                    24.867000\n",
              "75%           1.000000                    28.631000\n",
              "max           1.000000                    37.937000"
            ]
          },
          "metadata": {
            "tags": []
          },
          "execution_count": 60
        }
      ]
    },
    {
      "cell_type": "code",
      "metadata": {
        "colab": {
          "base_uri": "https://localhost:8080/"
        },
        "id": "DIp6NERrum8b",
        "outputId": "322c29db-f187-4f42-91c7-de1bc8ffddc6"
      },
      "source": [
        "beer_data.isna().any()"
      ],
      "execution_count": 61,
      "outputs": [
        {
          "output_type": "execute_result",
          "data": {
            "text/plain": [
              "Data                           True\n",
              "Temperatura Media (C)          True\n",
              "Temperatura Minima (C)         True\n",
              "Temperatura Maxima (C)         True\n",
              "Precipitacao (mm)              True\n",
              "Final de Semana                True\n",
              "Consumo de cerveja (litros)    True\n",
              "dtype: bool"
            ]
          },
          "metadata": {
            "tags": []
          },
          "execution_count": 61
        }
      ]
    },
    {
      "cell_type": "code",
      "metadata": {
        "colab": {
          "base_uri": "https://localhost:8080/"
        },
        "id": "V6K37LUUvfI3",
        "outputId": "a7537b19-3304-41d3-8646-8ca4581639fc"
      },
      "source": [
        "beer_data.isna().sum()"
      ],
      "execution_count": 62,
      "outputs": [
        {
          "output_type": "execute_result",
          "data": {
            "text/plain": [
              "Data                           576\n",
              "Temperatura Media (C)          576\n",
              "Temperatura Minima (C)         576\n",
              "Temperatura Maxima (C)         576\n",
              "Precipitacao (mm)              576\n",
              "Final de Semana                576\n",
              "Consumo de cerveja (litros)    576\n",
              "dtype: int64"
            ]
          },
          "metadata": {
            "tags": []
          },
          "execution_count": 62
        }
      ]
    },
    {
      "cell_type": "code",
      "metadata": {
        "id": "82t_nopdvqQq"
      },
      "source": [
        "#Dropping rows with all NAN values\n",
        "beer_data.dropna(how = 'all' , inplace = True)"
      ],
      "execution_count": 63,
      "outputs": []
    },
    {
      "cell_type": "code",
      "metadata": {
        "id": "Kugf5U2Cv7cN"
      },
      "source": [
        "#inplacing commas with perion\n",
        "beer_data.replace({',':'.'}, regex = True, inplace = True)"
      ],
      "execution_count": 64,
      "outputs": []
    },
    {
      "cell_type": "code",
      "metadata": {
        "id": "8G7Y8QZvwdaW"
      },
      "source": [
        "#Converting the type of Data to Date time\n",
        "beer_data['Data'] = pd.to_datetime(beer_data['Data'])"
      ],
      "execution_count": 65,
      "outputs": []
    },
    {
      "cell_type": "code",
      "metadata": {
        "colab": {
          "base_uri": "https://localhost:8080/"
        },
        "id": "FX0LOaavw5F5",
        "outputId": "01ef2792-83a9-4c73-e30e-a24b6f4acdc7"
      },
      "source": [
        "beer_data.info()\n",
        "days = ['Monday','Tuesday','Wednesday','Thursday','Friday','Saturday','Sunday']"
      ],
      "execution_count": 66,
      "outputs": [
        {
          "output_type": "stream",
          "text": [
            "<class 'pandas.core.frame.DataFrame'>\n",
            "Int64Index: 365 entries, 0 to 364\n",
            "Data columns (total 7 columns):\n",
            " #   Column                       Non-Null Count  Dtype         \n",
            "---  ------                       --------------  -----         \n",
            " 0   Data                         365 non-null    datetime64[ns]\n",
            " 1   Temperatura Media (C)        365 non-null    object        \n",
            " 2   Temperatura Minima (C)       365 non-null    object        \n",
            " 3   Temperatura Maxima (C)       365 non-null    object        \n",
            " 4   Precipitacao (mm)            365 non-null    object        \n",
            " 5   Final de Semana              365 non-null    float64       \n",
            " 6   Consumo de cerveja (litros)  365 non-null    float64       \n",
            "dtypes: datetime64[ns](1), float64(2), object(4)\n",
            "memory usage: 22.8+ KB\n"
          ],
          "name": "stdout"
        }
      ]
    },
    {
      "cell_type": "code",
      "metadata": {
        "id": "56XrvZntxcBA"
      },
      "source": [
        "beer_data['Day'] = beer_data['Data'].apply(lambda a: days[a.weekday()])"
      ],
      "execution_count": 67,
      "outputs": []
    },
    {
      "cell_type": "code",
      "metadata": {
        "colab": {
          "base_uri": "https://localhost:8080/",
          "height": 202
        },
        "id": "_WcVzetYyQBu",
        "outputId": "f937fc2c-e152-482e-ec55-dee0205cafc6"
      },
      "source": [
        "beer_data.head()"
      ],
      "execution_count": 68,
      "outputs": [
        {
          "output_type": "execute_result",
          "data": {
            "text/html": [
              "<div>\n",
              "<style scoped>\n",
              "    .dataframe tbody tr th:only-of-type {\n",
              "        vertical-align: middle;\n",
              "    }\n",
              "\n",
              "    .dataframe tbody tr th {\n",
              "        vertical-align: top;\n",
              "    }\n",
              "\n",
              "    .dataframe thead th {\n",
              "        text-align: right;\n",
              "    }\n",
              "</style>\n",
              "<table border=\"1\" class=\"dataframe\">\n",
              "  <thead>\n",
              "    <tr style=\"text-align: right;\">\n",
              "      <th></th>\n",
              "      <th>Data</th>\n",
              "      <th>Temperatura Media (C)</th>\n",
              "      <th>Temperatura Minima (C)</th>\n",
              "      <th>Temperatura Maxima (C)</th>\n",
              "      <th>Precipitacao (mm)</th>\n",
              "      <th>Final de Semana</th>\n",
              "      <th>Consumo de cerveja (litros)</th>\n",
              "      <th>Day</th>\n",
              "    </tr>\n",
              "  </thead>\n",
              "  <tbody>\n",
              "    <tr>\n",
              "      <th>0</th>\n",
              "      <td>2015-01-01</td>\n",
              "      <td>27.3</td>\n",
              "      <td>23.9</td>\n",
              "      <td>32.5</td>\n",
              "      <td>0</td>\n",
              "      <td>0.0</td>\n",
              "      <td>25.461</td>\n",
              "      <td>Thursday</td>\n",
              "    </tr>\n",
              "    <tr>\n",
              "      <th>1</th>\n",
              "      <td>2015-01-02</td>\n",
              "      <td>27.02</td>\n",
              "      <td>24.5</td>\n",
              "      <td>33.5</td>\n",
              "      <td>0</td>\n",
              "      <td>0.0</td>\n",
              "      <td>28.972</td>\n",
              "      <td>Friday</td>\n",
              "    </tr>\n",
              "    <tr>\n",
              "      <th>2</th>\n",
              "      <td>2015-01-03</td>\n",
              "      <td>24.82</td>\n",
              "      <td>22.4</td>\n",
              "      <td>29.9</td>\n",
              "      <td>0</td>\n",
              "      <td>1.0</td>\n",
              "      <td>30.814</td>\n",
              "      <td>Saturday</td>\n",
              "    </tr>\n",
              "    <tr>\n",
              "      <th>3</th>\n",
              "      <td>2015-01-04</td>\n",
              "      <td>23.98</td>\n",
              "      <td>21.5</td>\n",
              "      <td>28.6</td>\n",
              "      <td>1.2</td>\n",
              "      <td>1.0</td>\n",
              "      <td>29.799</td>\n",
              "      <td>Sunday</td>\n",
              "    </tr>\n",
              "    <tr>\n",
              "      <th>4</th>\n",
              "      <td>2015-01-05</td>\n",
              "      <td>23.82</td>\n",
              "      <td>21</td>\n",
              "      <td>28.3</td>\n",
              "      <td>0</td>\n",
              "      <td>0.0</td>\n",
              "      <td>28.900</td>\n",
              "      <td>Monday</td>\n",
              "    </tr>\n",
              "  </tbody>\n",
              "</table>\n",
              "</div>"
            ],
            "text/plain": [
              "        Data Temperatura Media (C)  ... Consumo de cerveja (litros)       Day\n",
              "0 2015-01-01                  27.3  ...                      25.461  Thursday\n",
              "1 2015-01-02                 27.02  ...                      28.972    Friday\n",
              "2 2015-01-03                 24.82  ...                      30.814  Saturday\n",
              "3 2015-01-04                 23.98  ...                      29.799    Sunday\n",
              "4 2015-01-05                 23.82  ...                      28.900    Monday\n",
              "\n",
              "[5 rows x 8 columns]"
            ]
          },
          "metadata": {
            "tags": []
          },
          "execution_count": 68
        }
      ]
    },
    {
      "cell_type": "code",
      "metadata": {
        "colab": {
          "base_uri": "https://localhost:8080/"
        },
        "id": "-IKv32YXyXKj",
        "outputId": "0f11b56f-9bb7-4159-e938-fbcd1047779e"
      },
      "source": [
        "beer_data.columns"
      ],
      "execution_count": 69,
      "outputs": [
        {
          "output_type": "execute_result",
          "data": {
            "text/plain": [
              "Index(['Data', 'Temperatura Media (C)', 'Temperatura Minima (C)',\n",
              "       'Temperatura Maxima (C)', 'Precipitacao (mm)', 'Final de Semana',\n",
              "       'Consumo de cerveja (litros)', 'Day'],\n",
              "      dtype='object')"
            ]
          },
          "metadata": {
            "tags": []
          },
          "execution_count": 69
        }
      ]
    },
    {
      "cell_type": "code",
      "metadata": {
        "colab": {
          "base_uri": "https://localhost:8080/",
          "height": 334
        },
        "id": "MkLB70gcydfE",
        "outputId": "3b019e9e-aa00-4a5e-b24c-a4431da3758b"
      },
      "source": [
        "plt.figure(figsize=(10,5))\n",
        "ax = sns.barplot(x=\"Day\", y=\"Consumo de cerveja (litros)\", data=beer_data)"
      ],
      "execution_count": 70,
      "outputs": [
        {
          "output_type": "display_data",
          "data": {
            "image/png": "[encoded data removed]",
            "text/plain": [
              "<Figure size 720x360 with 1 Axes>"
            ]
          },
          "metadata": {
            "tags": [],
            "needs_background": "light"
          }
        }
      ]
    },
    {
      "cell_type": "code",
      "metadata": {
        "id": "kH7ocxhBzM1t"
      },
      "source": [
        "beer_data.drop(['Data','Day'], axis = 1,inplace = True) ## dropping date and day because we only want numeric variable"
      ],
      "execution_count": 71,
      "outputs": []
    },
    {
      "cell_type": "code",
      "metadata": {
        "id": "AiRwB_Lbzwg3"
      },
      "source": [
        "# coverting temperature and rainfall columns into float type\n",
        "beer_data = beer_data.apply(pd.to_numeric)"
      ],
      "execution_count": 72,
      "outputs": []
    },
    {
      "cell_type": "code",
      "metadata": {
        "colab": {
          "base_uri": "https://localhost:8080/",
          "height": 414
        },
        "id": "592Yair11Yaf",
        "outputId": "53625d4a-a9e6-494f-ef9c-7b91389512e9"
      },
      "source": [
        "beer_data"
      ],
      "execution_count": 73,
      "outputs": [
        {
          "output_type": "execute_result",
          "data": {
            "text/html": [
              "<div>\n",
              "<style scoped>\n",
              "    .dataframe tbody tr th:only-of-type {\n",
              "        vertical-align: middle;\n",
              "    }\n",
              "\n",
              "    .dataframe tbody tr th {\n",
              "        vertical-align: top;\n",
              "    }\n",
              "\n",
              "    .dataframe thead th {\n",
              "        text-align: right;\n",
              "    }\n",
              "</style>\n",
              "<table border=\"1\" class=\"dataframe\">\n",
              "  <thead>\n",
              "    <tr style=\"text-align: right;\">\n",
              "      <th></th>\n",
              "      <th>Temperatura Media (C)</th>\n",
              "      <th>Temperatura Minima (C)</th>\n",
              "      <th>Temperatura Maxima (C)</th>\n",
              "      <th>Precipitacao (mm)</th>\n",
              "      <th>Final de Semana</th>\n",
              "      <th>Consumo de cerveja (litros)</th>\n",
              "    </tr>\n",
              "  </thead>\n",
              "  <tbody>\n",
              "    <tr>\n",
              "      <th>0</th>\n",
              "      <td>27.30</td>\n",
              "      <td>23.9</td>\n",
              "      <td>32.5</td>\n",
              "      <td>0.0</td>\n",
              "      <td>0.0</td>\n",
              "      <td>25.461</td>\n",
              "    </tr>\n",
              "    <tr>\n",
              "      <th>1</th>\n",
              "      <td>27.02</td>\n",
              "      <td>24.5</td>\n",
              "      <td>33.5</td>\n",
              "      <td>0.0</td>\n",
              "      <td>0.0</td>\n",
              "      <td>28.972</td>\n",
              "    </tr>\n",
              "    <tr>\n",
              "      <th>2</th>\n",
              "      <td>24.82</td>\n",
              "      <td>22.4</td>\n",
              "      <td>29.9</td>\n",
              "      <td>0.0</td>\n",
              "      <td>1.0</td>\n",
              "      <td>30.814</td>\n",
              "    </tr>\n",
              "    <tr>\n",
              "      <th>3</th>\n",
              "      <td>23.98</td>\n",
              "      <td>21.5</td>\n",
              "      <td>28.6</td>\n",
              "      <td>1.2</td>\n",
              "      <td>1.0</td>\n",
              "      <td>29.799</td>\n",
              "    </tr>\n",
              "    <tr>\n",
              "      <th>4</th>\n",
              "      <td>23.82</td>\n",
              "      <td>21.0</td>\n",
              "      <td>28.3</td>\n",
              "      <td>0.0</td>\n",
              "      <td>0.0</td>\n",
              "      <td>28.900</td>\n",
              "    </tr>\n",
              "    <tr>\n",
              "      <th>...</th>\n",
              "      <td>...</td>\n",
              "      <td>...</td>\n",
              "      <td>...</td>\n",
              "      <td>...</td>\n",
              "      <td>...</td>\n",
              "      <td>...</td>\n",
              "    </tr>\n",
              "    <tr>\n",
              "      <th>360</th>\n",
              "      <td>24.00</td>\n",
              "      <td>21.1</td>\n",
              "      <td>28.2</td>\n",
              "      <td>13.6</td>\n",
              "      <td>1.0</td>\n",
              "      <td>32.307</td>\n",
              "    </tr>\n",
              "    <tr>\n",
              "      <th>361</th>\n",
              "      <td>22.64</td>\n",
              "      <td>21.1</td>\n",
              "      <td>26.7</td>\n",
              "      <td>0.0</td>\n",
              "      <td>0.0</td>\n",
              "      <td>26.095</td>\n",
              "    </tr>\n",
              "    <tr>\n",
              "      <th>362</th>\n",
              "      <td>21.68</td>\n",
              "      <td>20.3</td>\n",
              "      <td>24.1</td>\n",
              "      <td>10.3</td>\n",
              "      <td>0.0</td>\n",
              "      <td>22.309</td>\n",
              "    </tr>\n",
              "    <tr>\n",
              "      <th>363</th>\n",
              "      <td>21.38</td>\n",
              "      <td>19.3</td>\n",
              "      <td>22.4</td>\n",
              "      <td>6.3</td>\n",
              "      <td>0.0</td>\n",
              "      <td>20.467</td>\n",
              "    </tr>\n",
              "    <tr>\n",
              "      <th>364</th>\n",
              "      <td>24.76</td>\n",
              "      <td>20.2</td>\n",
              "      <td>29.0</td>\n",
              "      <td>0.0</td>\n",
              "      <td>0.0</td>\n",
              "      <td>22.446</td>\n",
              "    </tr>\n",
              "  </tbody>\n",
              "</table>\n",
              "<p>365 rows × 6 columns</p>\n",
              "</div>"
            ],
            "text/plain": [
              "     Temperatura Media (C)  ...  Consumo de cerveja (litros)\n",
              "0                    27.30  ...                       25.461\n",
              "1                    27.02  ...                       28.972\n",
              "2                    24.82  ...                       30.814\n",
              "3                    23.98  ...                       29.799\n",
              "4                    23.82  ...                       28.900\n",
              "..                     ...  ...                          ...\n",
              "360                  24.00  ...                       32.307\n",
              "361                  22.64  ...                       26.095\n",
              "362                  21.68  ...                       22.309\n",
              "363                  21.38  ...                       20.467\n",
              "364                  24.76  ...                       22.446\n",
              "\n",
              "[365 rows x 6 columns]"
            ]
          },
          "metadata": {
            "tags": []
          },
          "execution_count": 73
        }
      ]
    },
    {
      "cell_type": "code",
      "metadata": {
        "id": "QowYOQ3F1au1"
      },
      "source": [
        "from sklearn.model_selection import train_test_split\n",
        "x=beer_data.drop('Consumo de cerveja (litros)',axis = 1)#drop the target variables"
      ],
      "execution_count": 74,
      "outputs": []
    },
    {
      "cell_type": "code",
      "metadata": {
        "id": "pXkpbVwH15-D"
      },
      "source": [
        "y=beer_data['Consumo de cerveja (litros)']"
      ],
      "execution_count": 75,
      "outputs": []
    },
    {
      "cell_type": "code",
      "metadata": {
        "id": "wsrQPyAY2Iat"
      },
      "source": [
        "xtrain,xtest,ytrain,ytest = train_test_split(x, y, test_size = 0.2, random_state = 42)"
      ],
      "execution_count": 78,
      "outputs": []
    },
    {
      "cell_type": "code",
      "metadata": {
        "id": "kxJZeXdU2nD5"
      },
      "source": [
        "from sklearn.linear_model import  LinearRegression\n",
        "lr=LinearRegression()"
      ],
      "execution_count": 79,
      "outputs": []
    },
    {
      "cell_type": "code",
      "metadata": {
        "colab": {
          "base_uri": "https://localhost:8080/"
        },
        "id": "8yKHaT1f3BzV",
        "outputId": "63532794-3c3e-4b29-a4d6-3eb881e24e07"
      },
      "source": [
        "lr.fit(xtrain,ytrain)"
      ],
      "execution_count": 81,
      "outputs": [
        {
          "output_type": "execute_result",
          "data": {
            "text/plain": [
              "LinearRegression(copy_X=True, fit_intercept=True, n_jobs=None, normalize=False)"
            ]
          },
          "metadata": {
            "tags": []
          },
          "execution_count": 81
        }
      ]
    },
    {
      "cell_type": "code",
      "metadata": {
        "id": "Ex0zv00_3JiU"
      },
      "source": [
        "y_pred=lr.predict(xtest)"
      ],
      "execution_count": 83,
      "outputs": []
    },
    {
      "cell_type": "code",
      "metadata": {
        "colab": {
          "base_uri": "https://localhost:8080/"
        },
        "id": "yjpsbvCI3eWI",
        "outputId": "73d1078e-35d2-4054-99ae-32f3d4761719"
      },
      "source": [
        "y_pred"
      ],
      "execution_count": 84,
      "outputs": [
        {
          "output_type": "execute_result",
          "data": {
            "text/plain": [
              "array([25.60008014, 27.06877385, 28.11275655, 21.57537646, 27.29347657,\n",
              "       17.96214084, 22.43132448, 18.85518829, 18.04043779, 20.83064758,\n",
              "       32.02979766, 26.88537202, 25.28984605, 25.74571583, 20.6053303 ,\n",
              "       22.29514317, 28.05015283, 27.19425957, 24.65694159, 28.64238252,\n",
              "       34.33046279, 21.9006268 , 29.59119372, 19.53113689, 24.87223847,\n",
              "       24.69346949, 29.00415175, 30.14043339, 22.82207992, 24.11829119,\n",
              "       24.5916828 , 29.61756452, 28.26128808, 32.29803338, 23.59209206,\n",
              "       27.01962067, 27.46840097, 23.59248636, 25.096739  , 31.47367615,\n",
              "       28.05312488, 32.00624744, 27.80995205, 24.39195411, 25.06237086,\n",
              "       31.59058938, 24.73061051, 25.15557835, 26.15809444, 29.17188161,\n",
              "       28.94974476, 31.74422993, 31.42553308, 33.64002652, 20.31965281,\n",
              "       25.77543848, 31.14232536, 30.51589219, 27.37979187, 24.26798943,\n",
              "       22.4260935 , 28.04076493, 24.78473964, 23.55530259, 29.23599875,\n",
              "       29.38710822, 25.22670618, 19.81578848, 20.19980465, 23.93822211,\n",
              "       29.15646124, 29.79879993, 30.80451363])"
            ]
          },
          "metadata": {
            "tags": []
          },
          "execution_count": 84
        }
      ]
    },
    {
      "cell_type": "code",
      "metadata": {
        "colab": {
          "base_uri": "https://localhost:8080/"
        },
        "id": "Q98b6UqC3jHG",
        "outputId": "a8c625d9-5a08-4550-e104-029d34dab1bc"
      },
      "source": [
        "ytest"
      ],
      "execution_count": 86,
      "outputs": [
        {
          "output_type": "execute_result",
          "data": {
            "text/plain": [
              "193    25.640\n",
              "33     31.655\n",
              "15     29.938\n",
              "309    20.575\n",
              "57     26.241\n",
              "        ...  \n",
              "203    19.029\n",
              "82     21.617\n",
              "94     32.713\n",
              "192    33.298\n",
              "325    31.933\n",
              "Name: Consumo de cerveja (litros), Length: 73, dtype: float64"
            ]
          },
          "metadata": {
            "tags": []
          },
          "execution_count": 86
        }
      ]
    },
    {
      "cell_type": "code",
      "metadata": {
        "colab": {
          "base_uri": "https://localhost:8080/"
        },
        "id": "QbDq4Lri3lCx",
        "outputId": "1ad1b82a-b5ef-4054-e0fd-26b80fe41cd1"
      },
      "source": [
        "print(lr.score(xtest,ytest))"
      ],
      "execution_count": 88,
      "outputs": [
        {
          "output_type": "stream",
          "text": [
            "0.7427938181737361\n"
          ],
          "name": "stdout"
        }
      ]
    },
    {
      "cell_type": "code",
      "metadata": {
        "id": "PAt7IDPH5YeS"
      },
      "source": [
        ""
      ],
      "execution_count": null,
      "outputs": []
    }
  ]
}